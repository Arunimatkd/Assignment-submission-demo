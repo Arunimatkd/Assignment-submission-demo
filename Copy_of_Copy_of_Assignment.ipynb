{
  "nbformat": 4,
  "nbformat_minor": 0,
  "metadata": {
    "colab": {
      "name": "Copy of Copy of Assignment.ipynb",
      "provenance": [],
      "collapsed_sections": [],
      "authorship_tag": "ABX9TyMGOnobsDbJ+aPo93OGb4vk",
      "include_colab_link": true
    },
    "kernelspec": {
      "name": "python3",
      "display_name": "Python 3"
    },
    "language_info": {
      "name": "python"
    }
  },
  "cells": [
    {
      "cell_type": "markdown",
      "metadata": {
        "id": "view-in-github",
        "colab_type": "text"
      },
      "source": [
        "<a href=\"https://colab.research.google.com/github/Arunimatkd/Assignment-submission-demo/blob/main/Copy_of_Copy_of_Assignment.ipynb\" target=\"_parent\"><img src=\"https://colab.research.google.com/assets/colab-badge.svg\" alt=\"Open In Colab\"/></a>"
      ]
    },
    {
      "cell_type": "code",
      "metadata": {
        "colab": {
          "base_uri": "https://localhost:8080/"
        },
        "id": "CqS96yWrCh8k",
        "outputId": "42d15e6e-ef18-4a1f-c2bd-bb231cfe483c"
      },
      "source": [
        " \n",
        "li = [int(i) for i in input ('Enter values:'). split ()]\n",
        "li.sort()\n",
        "li.reverse()\n",
        "print (li)"
      ],
      "execution_count": null,
      "outputs": [
        {
          "output_type": "stream",
          "text": [
            "Enter values:10 12 16 23 \n",
            "[23, 16, 12, 10]\n"
          ],
          "name": "stdout"
        }
      ]
    },
    {
      "cell_type": "code",
      "metadata": {
        "colab": {
          "base_uri": "https://localhost:8080/"
        },
        "id": "XL-Tut-SQzdN",
        "outputId": "969e8586-47ec-48a7-adaa-23d1cbe6f8cb"
      },
      "source": [
        " \n",
        "#Assignment 2\n",
        "#Remove all occurrences of an element from a list\n",
        " \n",
        "def remove(li,x):\n",
        "  for i in li: \n",
        "        if(i == x):\n",
        "         li.remove(i) \n",
        " \n",
        "x=0\n",
        "li =[2,0,5,9,7,0,6,0,1]\n",
        "y=remove(li,x)\n",
        "print (li)"
      ],
      "execution_count": null,
      "outputs": [
        {
          "output_type": "stream",
          "text": [
            "[2, 5, 9, 7, 6, 1]\n"
          ],
          "name": "stdout"
        }
      ]
    },
    {
      "cell_type": "code",
      "metadata": {
        "colab": {
          "base_uri": "https://localhost:8080/"
        },
        "id": "xGryrz_dRVhJ",
        "outputId": "262e2308-0d50-4c0a-f44b-e46b75129163"
      },
      "source": [
        " \n",
        "#Assignment 3\n",
        "#Check whether a string is pangram\n",
        " \n",
        "import string\n",
        " \n",
        "alpha = set(string.ascii_lowercase)\n",
        "  \n",
        "def pangram(string):\n",
        "    return set(string.lower()) >= alpha\n",
        "    \n",
        "string = input(\"Enter the string:\")\n",
        "if(pangram(string) == True):\n",
        "    print(\"Yes\")\n",
        "else:\n",
        "    print(\"No\")"
      ],
      "execution_count": null,
      "outputs": [
        {
          "output_type": "stream",
          "text": [
            "Enter the string:The quick brown fox jumps over the lazy dog\n",
            "Yes\n"
          ],
          "name": "stdout"
        }
      ]
    },
    {
      "cell_type": "code",
      "metadata": {
        "id": "KfIWXGLvSAUM"
      },
      "source": [
        " \n",
        "# Project 1: OTP Generator\n",
        "# Generate a 6 character OTP\n",
        "import random as r\n",
        "import string\n",
        "length = 6\n",
        "otp = ''\n",
        "characters = string.ascii_letters + string.digits\n",
        " \n",
        "for i in range(length):\n",
        "  otp = otp + r.choice(characters)\n",
        " \n",
        "print(\"OTP:\",otp)"
      ],
      "execution_count": null,
      "outputs": []
    },
    {
      "cell_type": "code",
      "metadata": {
        "colab": {
          "base_uri": "https://localhost:8080/"
        },
        "id": "PKqCT9l2U7BB",
        "outputId": "76d9aee7-77aa-49c3-8aaa-78b6380ab455"
      },
      "source": [
        " \n",
        "#Project 2 : Make a temperature converter\n",
        " \n",
        "!pip install pytemperature"
      ],
      "execution_count": null,
      "outputs": [
        {
          "output_type": "stream",
          "text": [
            "Collecting pytemperature\n",
            "  Downloading pytemperature-1.0.zip (2.2 kB)\n",
            "Building wheels for collected packages: pytemperature\n",
            "  Building wheel for pytemperature (setup.py) ... \u001b[?25l\u001b[?25hdone\n",
            "  Created wheel for pytemperature: filename=pytemperature-1.0-py3-none-any.whl size=1939 sha256=39c1fcdf4bbbf93763b7997c37d4aba72662558c9d06512bb9abbbdd283cdb78\n",
            "  Stored in directory: /root/.cache/pip/wheels/5b/3e/4c/c298388b6bf7b6fe1207e185f532a5d8cf18d30c64660b61ee\n",
            "Successfully built pytemperature\n",
            "Installing collected packages: pytemperature\n",
            "Successfully installed pytemperature-1.0\n"
          ],
          "name": "stdout"
        }
      ]
    },
    {
      "cell_type": "code",
      "metadata": {
        "colab": {
          "base_uri": "https://localhost:8080/"
        },
        "id": "FmadYnOPZzX1",
        "outputId": "6ac7b3f4-9026-4c3d-8a5d-d8e14459f755"
      },
      "source": [
        " >>> import pytemperature\n",
        ">>> pytemperature.c2f(int(input('Enter the temperature in degree Celsius:')))"
      ],
      "execution_count": null,
      "outputs": [
        {
          "output_type": "stream",
          "text": [
            "Enter the temperature in degree Celsius:37\n"
          ],
          "name": "stdout"
        },
        {
          "output_type": "execute_result",
          "data": {
            "text/plain": [
              "98.6"
            ]
          },
          "metadata": {
            "tags": []
          },
          "execution_count": 7
        }
      ]
    }
  ]
}